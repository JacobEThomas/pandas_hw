{
 "cells": [
  {
   "cell_type": "markdown",
   "metadata": {},
   "source": [
    "### Heroes Of Pymoli Data Analysis\n",
    "* Of the 1163 active players, the vast majority are male (84%). There also exists, a smaller, but notable proportion of female players (14%).\n",
    "\n",
    "* Our peak age demographic falls between 20-24 (44.8%) with secondary groups falling between 15-19 (18.60%) and 25-29 (13.4%).  \n",
    "-----"
   ]
  },
  {
   "cell_type": "markdown",
   "metadata": {},
   "source": [
    "### Note\n",
    "* Instructions have been included for each segment. You do not have to follow them exactly, but they are included to help you think through the steps."
   ]
  },
  {
   "cell_type": "code",
   "execution_count": 1,
   "metadata": {},
   "outputs": [
    {
     "data": {
      "text/plain": [
       "(780, 7)"
      ]
     },
     "execution_count": 1,
     "metadata": {},
     "output_type": "execute_result"
    }
   ],
   "source": [
    "# Dependencies and Setup\n",
    "import pandas as pd\n",
    "import numpy as np\n",
    "\n",
    "# File to Load (Remember to Change These)\n",
    "file_to_load = \"Resources/purchase_data.csv\"\n",
    "\n",
    "# Read Purchasing File and store into Pandas data frame\n",
    "purchase_data = pd.read_csv(file_to_load)\n",
    "purchase_data.shape"
   ]
  },
  {
   "cell_type": "code",
   "execution_count": 2,
   "metadata": {},
   "outputs": [],
   "source": [
    "#Assign unique Purchase ID variable based on df shape.\n",
    "unique_purchase = 780"
   ]
  },
  {
   "cell_type": "markdown",
   "metadata": {},
   "source": [
    "## Player Count"
   ]
  },
  {
   "cell_type": "markdown",
   "metadata": {},
   "source": [
    "* Display the total number of players\n"
   ]
  },
  {
   "cell_type": "code",
   "execution_count": 3,
   "metadata": {},
   "outputs": [
    {
     "data": {
      "text/plain": [
       "(576, 7)"
      ]
     },
     "execution_count": 3,
     "metadata": {},
     "output_type": "execute_result"
    }
   ],
   "source": [
    "#Group by command to isolate unique values.\n",
    "df = purchase_data.groupby('SN').nunique()\n",
    "#Shape command to count rows, indicating number of unique values.\n",
    "df.shape"
   ]
  },
  {
   "cell_type": "code",
   "execution_count": 4,
   "metadata": {},
   "outputs": [],
   "source": [
    "#Assign unique player variable based on df shape.\n",
    "unique_players = 576"
   ]
  },
  {
   "cell_type": "code",
   "execution_count": 5,
   "metadata": {},
   "outputs": [
    {
     "name": "stdout",
     "output_type": "stream",
     "text": [
      "Player Count OUTPUT:\n",
      "There are 576 unique players who have made purchases.\n"
     ]
    }
   ],
   "source": [
    "#Print Output.\n",
    "print ('Player Count OUTPUT:')\n",
    "print ('There are ' + str(unique_players) + ' unique players who have made purchases.')"
   ]
  },
  {
   "cell_type": "markdown",
   "metadata": {},
   "source": [
    "## Purchasing Analysis (Total)"
   ]
  },
  {
   "cell_type": "markdown",
   "metadata": {},
   "source": [
    "* Run basic calculations to obtain number of unique items, average price, etc.\n",
    "\n",
    "\n",
    "* Create a summary data frame to hold the results\n",
    "\n",
    "\n",
    "* Optional: give the displayed data cleaner formatting\n",
    "\n",
    "\n",
    "* Display the summary data frame\n"
   ]
  },
  {
   "cell_type": "code",
   "execution_count": 6,
   "metadata": {
    "scrolled": true
   },
   "outputs": [
    {
     "data": {
      "text/plain": [
       "(183, 7)"
      ]
     },
     "execution_count": 6,
     "metadata": {},
     "output_type": "execute_result"
    }
   ],
   "source": [
    "#Reset df\n",
    "df = pd.read_csv(file_to_load)\n",
    "#Group by command to isolate unique values.\n",
    "df = purchase_data.groupby('Item ID').nunique()\n",
    "#Shape command to count rows, indicating number of unique values.\n",
    "df.shape"
   ]
  },
  {
   "cell_type": "code",
   "execution_count": 7,
   "metadata": {},
   "outputs": [],
   "source": [
    "#Assign unique items variable based on df shape.\n",
    "unique_items = 183"
   ]
  },
  {
   "cell_type": "code",
   "execution_count": 8,
   "metadata": {},
   "outputs": [
    {
     "data": {
      "text/plain": [
       "Purchase ID    389.500000\n",
       "Age             22.714103\n",
       "Item ID         92.114103\n",
       "Price            3.050987\n",
       "dtype: float64"
      ]
     },
     "execution_count": 8,
     "metadata": {},
     "output_type": "execute_result"
    }
   ],
   "source": [
    "#Reset df\n",
    "df = pd.read_csv(file_to_load)\n",
    "\n",
    "#Mean command to generate column averages\n",
    "df.mean()"
   ]
  },
  {
   "cell_type": "code",
   "execution_count": 9,
   "metadata": {},
   "outputs": [],
   "source": [
    "#Assign mean price value based on df mean.\n",
    "mean_price = 3.05"
   ]
  },
  {
   "cell_type": "code",
   "execution_count": 10,
   "metadata": {},
   "outputs": [
    {
     "name": "stdout",
     "output_type": "stream",
     "text": [
      "Purchasing Analysis OUTPUT:\n",
      "There are 183 unique item purchases.\n",
      "The average purchase price is $3.05.\n"
     ]
    }
   ],
   "source": [
    "#Print Output\n",
    "print ('Purchasing Analysis OUTPUT:')\n",
    "print (\"There are \" + str(unique_items) + \" unique item purchases.\")\n",
    "print ('The average purchase price is $' + str(3.05) + '.')"
   ]
  },
  {
   "cell_type": "markdown",
   "metadata": {},
   "source": [
    "## Gender Demographics"
   ]
  },
  {
   "cell_type": "markdown",
   "metadata": {},
   "source": [
    "* Percentage and Count of Male Players\n",
    "\n",
    "\n",
    "* Percentage and Count of Female Players\n",
    "\n",
    "\n",
    "* Percentage and Count of Other / Non-Disclosed\n",
    "\n",
    "\n"
   ]
  },
  {
   "cell_type": "code",
   "execution_count": 11,
   "metadata": {},
   "outputs": [
    {
     "name": "stdout",
     "output_type": "stream",
     "text": [
      "                       Purchase ID   SN  Age  Gender  Item ID  Item Name  \\\n",
      "Gender                                                                     \n",
      "Female                         113   81   22       1       90         90   \n",
      "Male                           652  484   39       1      182        178   \n",
      "Other / Non-Disclosed           15   11    8       1       13         13   \n",
      "\n",
      "                       Price  \n",
      "Gender                        \n",
      "Female                    79  \n",
      "Male                     144  \n",
      "Other / Non-Disclosed     12  \n"
     ]
    }
   ],
   "source": [
    "df = df.groupby('Gender').nunique()\n",
    "\n",
    "print (df)\n"
   ]
  },
  {
   "cell_type": "code",
   "execution_count": 12,
   "metadata": {},
   "outputs": [],
   "source": [
    "#Assign unique gender variables based on df groupby, \n",
    "#unique = SN\n",
    "unique_female = 81\n",
    "unique_male = 484\n",
    "unique_other = 11\n",
    "\n",
    "#Calculate Percentages\n",
    "per_female = ((unique_female/unique_players)*100)\n",
    "per_male = ((unique_male/unique_players)*100)\n",
    "per_other = ((unique_other/unique_players)*100)\n"
   ]
  },
  {
   "cell_type": "code",
   "execution_count": 13,
   "metadata": {
    "scrolled": true
   },
   "outputs": [
    {
     "name": "stdout",
     "output_type": "stream",
     "text": [
      "Gender Demographics OUTPUT:\n",
      "There are 81 female players, 484 male players, and 11 other or non-disclosed players.\n",
      "The player pool is 14.0625% female, 84.02777777777779% male, and 1.9097222222222223% other or non-discolsed.\n"
     ]
    }
   ],
   "source": [
    "#Print Output.\n",
    "print ('Gender Demographics OUTPUT:')\n",
    "print ('There are ' + str(unique_female) + ' female players, '\n",
    "       + str(unique_male) + ' male players, and ' + str(unique_other)\n",
    "       + ' other or non-disclosed players.')\n",
    "print ('The player pool is ' + str(per_female) + '% female, ' \n",
    "       + str(per_male) + '% male, and ' + str(per_other) + '% other or non-discolsed.')"
   ]
  },
  {
   "cell_type": "markdown",
   "metadata": {},
   "source": [
    "\n",
    "## Purchasing Analysis (Gender)"
   ]
  },
  {
   "cell_type": "markdown",
   "metadata": {},
   "source": [
    "* Run basic calculations to obtain purchase count, avg. purchase price, avg. purchase total per person etc. by gender\n",
    "\n",
    "\n",
    "\n",
    "\n",
    "* Create a summary data frame to hold the results\n",
    "\n",
    "\n",
    "* Optional: give the displayed data cleaner formatting\n",
    "\n",
    "\n",
    "* Display the summary data frame"
   ]
  },
  {
   "cell_type": "code",
   "execution_count": 14,
   "metadata": {
    "scrolled": true
   },
   "outputs": [
    {
     "name": "stdout",
     "output_type": "stream",
     "text": [
      "                       Purchase ID   SN  Age  Gender  Item ID  Item Name  \\\n",
      "Gender                                                                     \n",
      "Female                         113   81   22       1       90         90   \n",
      "Male                           652  484   39       1      182        178   \n",
      "Other / Non-Disclosed           15   11    8       1       13         13   \n",
      "\n",
      "                       Price  \n",
      "Gender                        \n",
      "Female                    79  \n",
      "Male                     144  \n",
      "Other / Non-Disclosed     12  \n"
     ]
    }
   ],
   "source": [
    "print (df)"
   ]
  },
  {
   "cell_type": "code",
   "execution_count": 15,
   "metadata": {},
   "outputs": [],
   "source": [
    "#Assign total purchase gender variables based on df groupby. \n",
    "#nuique = Purchase ID\n",
    "totp_female = 113\n",
    "totp_male = 652\n",
    "totp_other = 15"
   ]
  },
  {
   "cell_type": "code",
   "execution_count": 16,
   "metadata": {},
   "outputs": [
    {
     "name": "stdout",
     "output_type": "stream",
     "text": [
      "                       Purchase ID        Age    Item ID     Price\n",
      "Gender                                                            \n",
      "Female                  379.380531  21.345133  85.477876  3.203009\n",
      "Male                    392.516871  22.917178  93.524540  3.017853\n",
      "Other / Non-Disclosed   334.600000  24.200000  80.800000  3.346000\n"
     ]
    }
   ],
   "source": [
    "#Reset df\n",
    "df = pd.read_csv(file_to_load)\n",
    "df = df.groupby('Gender').mean()\n",
    "\n",
    "print (df)"
   ]
  },
  {
   "cell_type": "code",
   "execution_count": 17,
   "metadata": {},
   "outputs": [],
   "source": [
    "#Assign mean gender variables based on df groupby.\n",
    "female_age = 21.3\n",
    "male_age = 22.9\n",
    "other_age = 24.2\n",
    "female_price = 3.20\n",
    "male_price = 3.02\n",
    "other_price = 3.35\n"
   ]
  },
  {
   "cell_type": "code",
   "execution_count": 18,
   "metadata": {
    "scrolled": true
   },
   "outputs": [
    {
     "data": {
      "text/html": [
       "<div>\n",
       "<style scoped>\n",
       "    .dataframe tbody tr th:only-of-type {\n",
       "        vertical-align: middle;\n",
       "    }\n",
       "\n",
       "    .dataframe tbody tr th {\n",
       "        vertical-align: top;\n",
       "    }\n",
       "\n",
       "    .dataframe thead th {\n",
       "        text-align: right;\n",
       "    }\n",
       "</style>\n",
       "<table border=\"1\" class=\"dataframe\">\n",
       "  <thead>\n",
       "    <tr style=\"text-align: right;\">\n",
       "      <th></th>\n",
       "      <th>Gender</th>\n",
       "      <th>Total Purchases</th>\n",
       "      <th>Average Purchase $</th>\n",
       "      <th>Average Age</th>\n",
       "      <th>Average Purchases / Person</th>\n",
       "    </tr>\n",
       "  </thead>\n",
       "  <tbody>\n",
       "    <tr>\n",
       "      <th>0</th>\n",
       "      <td>Female</td>\n",
       "      <td>113</td>\n",
       "      <td>3.2</td>\n",
       "      <td>22.9</td>\n",
       "      <td>1.3950617283950617</td>\n",
       "    </tr>\n",
       "    <tr>\n",
       "      <th>1</th>\n",
       "      <td>Male</td>\n",
       "      <td>652</td>\n",
       "      <td>3.02</td>\n",
       "      <td>21.3</td>\n",
       "      <td>1.3471074380165289</td>\n",
       "    </tr>\n",
       "    <tr>\n",
       "      <th>2</th>\n",
       "      <td>Other</td>\n",
       "      <td>15</td>\n",
       "      <td>3.35</td>\n",
       "      <td>24.2</td>\n",
       "      <td>1.3636363636363635</td>\n",
       "    </tr>\n",
       "  </tbody>\n",
       "</table>\n",
       "</div>"
      ],
      "text/plain": [
       "   Gender Total Purchases Average Purchase $ Average Age  \\\n",
       "0  Female             113                3.2        22.9   \n",
       "1    Male             652               3.02        21.3   \n",
       "2   Other              15               3.35        24.2   \n",
       "\n",
       "  Average Purchases / Person  \n",
       "0         1.3950617283950617  \n",
       "1         1.3471074380165289  \n",
       "2         1.3636363636363635  "
      ]
     },
     "execution_count": 18,
     "metadata": {},
     "output_type": "execute_result"
    }
   ],
   "source": [
    "#Create Summary DF\n",
    "summary_df = pd.DataFrame({\n",
    "    \"Gender\": [\"Female\", \"Male\", \"Other\"],\n",
    "    \"Total Purchases\": [str(totp_female), str(totp_male), str(totp_other)],\n",
    "    \"Average Purchase $\": [str(female_price), str(male_price), str(other_price)],\n",
    "    \"Average Age\": [str(male_age), str(female_age), str(other_age)],\n",
    "    \"Average Purchases / Person\": [str(totp_female/unique_female), str(totp_male/unique_male), str(totp_other/unique_other)]\n",
    "})     \n",
    "\n",
    "summary_df"
   ]
  },
  {
   "cell_type": "markdown",
   "metadata": {},
   "source": [
    "## Age Demographics"
   ]
  },
  {
   "cell_type": "markdown",
   "metadata": {},
   "source": [
    "* Establish bins for ages\n",
    "\n",
    "\n",
    "* Categorize the existing players using the age bins. Hint: use pd.cut()\n",
    "\n",
    "\n",
    "* Calculate the numbers and percentages by age group\n",
    "\n",
    "\n",
    "* Create a summary data frame to hold the results\n",
    "\n",
    "\n",
    "* Optional: round the percentage column to two decimal points\n",
    "\n",
    "\n",
    "* Display Age Demographics Table\n"
   ]
  },
  {
   "cell_type": "code",
   "execution_count": 19,
   "metadata": {},
   "outputs": [
    {
     "data": {
      "text/html": [
       "<div>\n",
       "<style scoped>\n",
       "    .dataframe tbody tr th:only-of-type {\n",
       "        vertical-align: middle;\n",
       "    }\n",
       "\n",
       "    .dataframe tbody tr th {\n",
       "        vertical-align: top;\n",
       "    }\n",
       "\n",
       "    .dataframe thead th {\n",
       "        text-align: right;\n",
       "    }\n",
       "</style>\n",
       "<table border=\"1\" class=\"dataframe\">\n",
       "  <thead>\n",
       "    <tr style=\"text-align: right;\">\n",
       "      <th></th>\n",
       "      <th>SN</th>\n",
       "    </tr>\n",
       "    <tr>\n",
       "      <th>Age Summary</th>\n",
       "      <th></th>\n",
       "    </tr>\n",
       "  </thead>\n",
       "  <tbody>\n",
       "    <tr>\n",
       "      <th>&lt;10</th>\n",
       "      <td>32</td>\n",
       "    </tr>\n",
       "    <tr>\n",
       "      <th>10-14</th>\n",
       "      <td>54</td>\n",
       "    </tr>\n",
       "    <tr>\n",
       "      <th>15-19</th>\n",
       "      <td>200</td>\n",
       "    </tr>\n",
       "    <tr>\n",
       "      <th>20-24</th>\n",
       "      <td>325</td>\n",
       "    </tr>\n",
       "    <tr>\n",
       "      <th>25-29</th>\n",
       "      <td>77</td>\n",
       "    </tr>\n",
       "    <tr>\n",
       "      <th>30-34</th>\n",
       "      <td>52</td>\n",
       "    </tr>\n",
       "    <tr>\n",
       "      <th>35-39</th>\n",
       "      <td>33</td>\n",
       "    </tr>\n",
       "    <tr>\n",
       "      <th>40+</th>\n",
       "      <td>7</td>\n",
       "    </tr>\n",
       "  </tbody>\n",
       "</table>\n",
       "</div>"
      ],
      "text/plain": [
       "              SN\n",
       "Age Summary     \n",
       "<10           32\n",
       "10-14         54\n",
       "15-19        200\n",
       "20-24        325\n",
       "25-29         77\n",
       "30-34         52\n",
       "35-39         33\n",
       "40+            7"
      ]
     },
     "execution_count": 19,
     "metadata": {},
     "output_type": "execute_result"
    }
   ],
   "source": [
    "df = pd.read_csv(file_to_load)\n",
    "bins = [0, 10, 15, 20, 25, 30, 35, 40, 100]\n",
    "group_names = ['<10', '10-14', '15-19', '20-24', '25-29', '30-34', '35-39', '40+']\n",
    "\n",
    "df[\"Age Summary\"] = pd.cut(df[\"Age\"], bins, labels=group_names)\n",
    "age_groups = df.groupby(\"Age Summary\")\n",
    "age_groups_df = age_groups.count()\n",
    "age_groups_df2 = age_groups_df[['SN']]\n",
    "age_groups_df2\n"
   ]
  },
  {
   "cell_type": "code",
   "execution_count": 20,
   "metadata": {},
   "outputs": [
    {
     "data": {
      "text/html": [
       "<div>\n",
       "<style scoped>\n",
       "    .dataframe tbody tr th:only-of-type {\n",
       "        vertical-align: middle;\n",
       "    }\n",
       "\n",
       "    .dataframe tbody tr th {\n",
       "        vertical-align: top;\n",
       "    }\n",
       "\n",
       "    .dataframe thead th {\n",
       "        text-align: right;\n",
       "    }\n",
       "</style>\n",
       "<table border=\"1\" class=\"dataframe\">\n",
       "  <thead>\n",
       "    <tr style=\"text-align: right;\">\n",
       "      <th></th>\n",
       "      <th>Age Range</th>\n",
       "      <th>User Count</th>\n",
       "      <th>%</th>\n",
       "    </tr>\n",
       "  </thead>\n",
       "  <tbody>\n",
       "    <tr>\n",
       "      <th>0</th>\n",
       "      <td>&lt;10</td>\n",
       "      <td>32</td>\n",
       "      <td>5.555556</td>\n",
       "    </tr>\n",
       "    <tr>\n",
       "      <th>1</th>\n",
       "      <td>10-14</td>\n",
       "      <td>54</td>\n",
       "      <td>9.375000</td>\n",
       "    </tr>\n",
       "    <tr>\n",
       "      <th>2</th>\n",
       "      <td>15-19</td>\n",
       "      <td>200</td>\n",
       "      <td>34.722222</td>\n",
       "    </tr>\n",
       "    <tr>\n",
       "      <th>3</th>\n",
       "      <td>20-24</td>\n",
       "      <td>325</td>\n",
       "      <td>61.111111</td>\n",
       "    </tr>\n",
       "    <tr>\n",
       "      <th>4</th>\n",
       "      <td>25-29</td>\n",
       "      <td>77</td>\n",
       "      <td>13.368056</td>\n",
       "    </tr>\n",
       "    <tr>\n",
       "      <th>5</th>\n",
       "      <td>30-34</td>\n",
       "      <td>52</td>\n",
       "      <td>9.027778</td>\n",
       "    </tr>\n",
       "    <tr>\n",
       "      <th>6</th>\n",
       "      <td>35-39</td>\n",
       "      <td>33</td>\n",
       "      <td>5.729167</td>\n",
       "    </tr>\n",
       "    <tr>\n",
       "      <th>7</th>\n",
       "      <td>40+</td>\n",
       "      <td>7</td>\n",
       "      <td>1.215278</td>\n",
       "    </tr>\n",
       "  </tbody>\n",
       "</table>\n",
       "</div>"
      ],
      "text/plain": [
       "  Age Range  User Count          %\n",
       "0       <10          32   5.555556\n",
       "1     10-14          54   9.375000\n",
       "2     15-19         200  34.722222\n",
       "3     20-24         325  61.111111\n",
       "4     25-29          77  13.368056\n",
       "5     30-34          52   9.027778\n",
       "6     35-39          33   5.729167\n",
       "7       40+           7   1.215278"
      ]
     },
     "execution_count": 20,
     "metadata": {},
     "output_type": "execute_result"
    }
   ],
   "source": [
    "#Create Summary DF2\n",
    "summary_df2 = pd.DataFrame({\n",
    "    \"Age Range\": [\"<10\", \"10-14\", \"15-19\", \"20-24\", \"25-29\", \"30-34\", \"35-39\", \"40+\"],\n",
    "    \"User Count\": [32, 54, 200, 325, 77, 52, 33, 7],\n",
    "    \"%\": [32/unique_players*100, 54/unique_players*100, 200/unique_players*100, 352/unique_players*100, 77/unique_players*100,\n",
    "         52/unique_players*100, 33/unique_players*100, 7/unique_players*100]\n",
    "})     \n",
    "\n",
    "summary_df2"
   ]
  },
  {
   "cell_type": "markdown",
   "metadata": {},
   "source": [
    "## Purchasing Analysis (Age)"
   ]
  },
  {
   "cell_type": "markdown",
   "metadata": {},
   "source": [
    "* Bin the purchase_data data frame by age\n",
    "\n",
    "\n",
    "* Run basic calculations to obtain purchase count, avg. purchase price, avg. purchase total per person etc. in the table below\n",
    "\n",
    "\n",
    "* Create a summary data frame to hold the results\n",
    "\n",
    "\n",
    "* Optional: give the displayed data cleaner formatting\n",
    "\n",
    "\n",
    "* Display the summary data frame"
   ]
  },
  {
   "cell_type": "code",
   "execution_count": 21,
   "metadata": {},
   "outputs": [
    {
     "data": {
      "text/plain": [
       "Age Summary\n",
       "<10       32\n",
       "10-14     54\n",
       "15-19    200\n",
       "20-24    325\n",
       "25-29     77\n",
       "30-34     52\n",
       "35-39     33\n",
       "40+        7\n",
       "Name: Purchase ID, dtype: int64"
      ]
     },
     "execution_count": 21,
     "metadata": {},
     "output_type": "execute_result"
    }
   ],
   "source": [
    "age_groups['Purchase ID'].count()\n"
   ]
  },
  {
   "cell_type": "code",
   "execution_count": 22,
   "metadata": {},
   "outputs": [
    {
     "data": {
      "text/plain": [
       "Age Summary\n",
       "<10      3.405000\n",
       "10-14    2.900000\n",
       "15-19    3.107800\n",
       "20-24    3.020431\n",
       "25-29    2.875584\n",
       "30-34    2.994423\n",
       "35-39    3.404545\n",
       "40+      3.075714\n",
       "Name: Price, dtype: float64"
      ]
     },
     "execution_count": 22,
     "metadata": {},
     "output_type": "execute_result"
    }
   ],
   "source": [
    "age_groups['Price'].mean()"
   ]
  },
  {
   "cell_type": "code",
   "execution_count": 23,
   "metadata": {},
   "outputs": [
    {
     "data": {
      "text/html": [
       "<div>\n",
       "<style scoped>\n",
       "    .dataframe tbody tr th:only-of-type {\n",
       "        vertical-align: middle;\n",
       "    }\n",
       "\n",
       "    .dataframe tbody tr th {\n",
       "        vertical-align: top;\n",
       "    }\n",
       "\n",
       "    .dataframe thead th {\n",
       "        text-align: right;\n",
       "    }\n",
       "</style>\n",
       "<table border=\"1\" class=\"dataframe\">\n",
       "  <thead>\n",
       "    <tr style=\"text-align: right;\">\n",
       "      <th></th>\n",
       "      <th>Age Range</th>\n",
       "      <th>Purchase Count</th>\n",
       "      <th>%</th>\n",
       "      <th>Average Purchase $</th>\n",
       "    </tr>\n",
       "  </thead>\n",
       "  <tbody>\n",
       "    <tr>\n",
       "      <th>0</th>\n",
       "      <td>&lt;10</td>\n",
       "      <td>32</td>\n",
       "      <td>4.102564</td>\n",
       "      <td>3.40</td>\n",
       "    </tr>\n",
       "    <tr>\n",
       "      <th>1</th>\n",
       "      <td>10-14</td>\n",
       "      <td>54</td>\n",
       "      <td>6.923077</td>\n",
       "      <td>2.90</td>\n",
       "    </tr>\n",
       "    <tr>\n",
       "      <th>2</th>\n",
       "      <td>15-19</td>\n",
       "      <td>200</td>\n",
       "      <td>25.641026</td>\n",
       "      <td>3.1</td>\n",
       "    </tr>\n",
       "    <tr>\n",
       "      <th>3</th>\n",
       "      <td>20-24</td>\n",
       "      <td>325</td>\n",
       "      <td>45.128205</td>\n",
       "      <td>3.02</td>\n",
       "    </tr>\n",
       "    <tr>\n",
       "      <th>4</th>\n",
       "      <td>25-29</td>\n",
       "      <td>77</td>\n",
       "      <td>9.871795</td>\n",
       "      <td>2.88</td>\n",
       "    </tr>\n",
       "    <tr>\n",
       "      <th>5</th>\n",
       "      <td>30-34</td>\n",
       "      <td>52</td>\n",
       "      <td>6.666667</td>\n",
       "      <td>2.99</td>\n",
       "    </tr>\n",
       "    <tr>\n",
       "      <th>6</th>\n",
       "      <td>35-39</td>\n",
       "      <td>33</td>\n",
       "      <td>4.230769</td>\n",
       "      <td>3.40</td>\n",
       "    </tr>\n",
       "    <tr>\n",
       "      <th>7</th>\n",
       "      <td>40+</td>\n",
       "      <td>7</td>\n",
       "      <td>0.897436</td>\n",
       "      <td>3.08</td>\n",
       "    </tr>\n",
       "  </tbody>\n",
       "</table>\n",
       "</div>"
      ],
      "text/plain": [
       "  Age Range  Purchase Count          % Average Purchase $\n",
       "0       <10              32   4.102564               3.40\n",
       "1     10-14              54   6.923077               2.90\n",
       "2     15-19             200  25.641026                3.1\n",
       "3     20-24             325  45.128205               3.02\n",
       "4     25-29              77   9.871795               2.88\n",
       "5     30-34              52   6.666667               2.99\n",
       "6     35-39              33   4.230769               3.40\n",
       "7       40+               7   0.897436               3.08"
      ]
     },
     "execution_count": 23,
     "metadata": {},
     "output_type": "execute_result"
    }
   ],
   "source": [
    "#Create Summary DF3\n",
    "summary_df3 = pd.DataFrame({\n",
    "    \"Age Range\": [\"<10\", \"10-14\", \"15-19\", \"20-24\", \"25-29\", \"30-34\", \"35-39\", \"40+\"],\n",
    "    \"Purchase Count\": [32, 54, 200, 325, 77, 52, 33, 7],\n",
    "    \"%\": [32/unique_purchase*100, 54/unique_purchase*100, 200/unique_purchase*100, 352/unique_purchase*100, 77/unique_purchase*100,\n",
    "         52/unique_purchase*100, 33/unique_purchase*100, 7/unique_purchase*100],\n",
    "    \"Average Purchase $\": [\"3.40\", \"2.90\", \"3.1\", \"3.02\", \"2.88\", \"2.99\", \"3.40\", \"3.08\"]\n",
    "})     \n",
    "\n",
    "summary_df3"
   ]
  },
  {
   "cell_type": "markdown",
   "metadata": {},
   "source": [
    "## Top Spenders"
   ]
  },
  {
   "cell_type": "markdown",
   "metadata": {},
   "source": [
    "* Run basic calculations to obtain the results in the table below\n",
    "\n",
    "\n",
    "* Create a summary data frame to hold the results\n",
    "\n",
    "\n",
    "* Sort the total purchase value column in descending order\n",
    "\n",
    "\n",
    "* Optional: give the displayed data cleaner formatting\n",
    "\n",
    "\n",
    "* Display a preview of the summary data frame\n",
    "\n"
   ]
  },
  {
   "cell_type": "code",
   "execution_count": 24,
   "metadata": {},
   "outputs": [
    {
     "data": {
      "text/html": [
       "<div>\n",
       "<style scoped>\n",
       "    .dataframe tbody tr th:only-of-type {\n",
       "        vertical-align: middle;\n",
       "    }\n",
       "\n",
       "    .dataframe tbody tr th {\n",
       "        vertical-align: top;\n",
       "    }\n",
       "\n",
       "    .dataframe thead th {\n",
       "        text-align: right;\n",
       "    }\n",
       "</style>\n",
       "<table border=\"1\" class=\"dataframe\">\n",
       "  <thead>\n",
       "    <tr style=\"text-align: right;\">\n",
       "      <th></th>\n",
       "      <th>Purchase Count</th>\n",
       "      <th>Average Purchase Price</th>\n",
       "      <th>Total Purchase Value</th>\n",
       "    </tr>\n",
       "    <tr>\n",
       "      <th>SN</th>\n",
       "      <th></th>\n",
       "      <th></th>\n",
       "      <th></th>\n",
       "    </tr>\n",
       "  </thead>\n",
       "  <tbody>\n",
       "    <tr>\n",
       "      <th>Lisosia93</th>\n",
       "      <td>5</td>\n",
       "      <td>3.792000</td>\n",
       "      <td>18.96</td>\n",
       "    </tr>\n",
       "    <tr>\n",
       "      <th>Idastidru52</th>\n",
       "      <td>4</td>\n",
       "      <td>3.862500</td>\n",
       "      <td>15.45</td>\n",
       "    </tr>\n",
       "    <tr>\n",
       "      <th>Chamjask73</th>\n",
       "      <td>3</td>\n",
       "      <td>4.610000</td>\n",
       "      <td>13.83</td>\n",
       "    </tr>\n",
       "    <tr>\n",
       "      <th>Iral74</th>\n",
       "      <td>4</td>\n",
       "      <td>3.405000</td>\n",
       "      <td>13.62</td>\n",
       "    </tr>\n",
       "    <tr>\n",
       "      <th>Iskadarya95</th>\n",
       "      <td>3</td>\n",
       "      <td>4.366667</td>\n",
       "      <td>13.10</td>\n",
       "    </tr>\n",
       "    <tr>\n",
       "      <th>Ilarin91</th>\n",
       "      <td>3</td>\n",
       "      <td>4.233333</td>\n",
       "      <td>12.70</td>\n",
       "    </tr>\n",
       "    <tr>\n",
       "      <th>Ialallo29</th>\n",
       "      <td>3</td>\n",
       "      <td>3.946667</td>\n",
       "      <td>11.84</td>\n",
       "    </tr>\n",
       "    <tr>\n",
       "      <th>Tyidaim51</th>\n",
       "      <td>3</td>\n",
       "      <td>3.943333</td>\n",
       "      <td>11.83</td>\n",
       "    </tr>\n",
       "    <tr>\n",
       "      <th>Lassilsala30</th>\n",
       "      <td>3</td>\n",
       "      <td>3.836667</td>\n",
       "      <td>11.51</td>\n",
       "    </tr>\n",
       "    <tr>\n",
       "      <th>Chadolyla44</th>\n",
       "      <td>3</td>\n",
       "      <td>3.820000</td>\n",
       "      <td>11.46</td>\n",
       "    </tr>\n",
       "  </tbody>\n",
       "</table>\n",
       "</div>"
      ],
      "text/plain": [
       "              Purchase Count  Average Purchase Price  Total Purchase Value\n",
       "SN                                                                        \n",
       "Lisosia93                  5                3.792000                 18.96\n",
       "Idastidru52                4                3.862500                 15.45\n",
       "Chamjask73                 3                4.610000                 13.83\n",
       "Iral74                     4                3.405000                 13.62\n",
       "Iskadarya95                3                4.366667                 13.10\n",
       "Ilarin91                   3                4.233333                 12.70\n",
       "Ialallo29                  3                3.946667                 11.84\n",
       "Tyidaim51                  3                3.943333                 11.83\n",
       "Lassilsala30               3                3.836667                 11.51\n",
       "Chadolyla44                3                3.820000                 11.46"
      ]
     },
     "execution_count": 24,
     "metadata": {},
     "output_type": "execute_result"
    }
   ],
   "source": [
    "#Reset df\n",
    "df = pd.read_csv(file_to_load)\n",
    "\n",
    "#Isolate purchases per unique SN\n",
    "purchase_per_SN = df.groupby('SN')['Price'].count()\n",
    "purchase_per_SN_df = pd.DataFrame(purchase_per_SN)\n",
    "unique_SN_df = df.groupby('SN')['Price'].sum()\n",
    "\n",
    "#Calculate prices\n",
    "price_per_SN = df.groupby('SN')['Price'].mean()\n",
    "purchase_per_SN_df['Average Purchase Price'] = price_per_SN\n",
    "purchase_per_SN_df['Total Purchase Value'] = unique_SN_df\n",
    "purchase_per_SN_df\n",
    "\n",
    "# Rename 'Price' to 'Purchase Count'\n",
    "updated_purchase_per_SN_df = purchase_per_SN_df.rename(columns={\n",
    "    'Price': 'Purchase Count',\n",
    "})\n",
    "\n",
    "# Sort 'Price' from highest to lowest\n",
    "sorted_SN_df = updated_purchase_per_SN_df.sort_values(by=['Total Purchase Value'], ascending=False)\n",
    "sorted_SN_df\n",
    "\n",
    "# Show top 5 spenders only\n",
    "sorted_SN_df.head(10)"
   ]
  },
  {
   "cell_type": "markdown",
   "metadata": {},
   "source": [
    "## Most Popular Items"
   ]
  },
  {
   "cell_type": "markdown",
   "metadata": {},
   "source": [
    "* Retrieve the Item ID, Item Name, and Item Price columns\n",
    "\n",
    "\n",
    "* Group by Item ID and Item Name. Perform calculations to obtain purchase count, item price, and total purchase value\n",
    "\n",
    "\n",
    "* Create a summary data frame to hold the results\n",
    "\n",
    "\n",
    "* Sort the purchase count column in descending order\n",
    "\n",
    "\n",
    "* Optional: give the displayed data cleaner formatting\n",
    "\n",
    "\n",
    "* Display a preview of the summary data frame\n",
    "\n"
   ]
  },
  {
   "cell_type": "code",
   "execution_count": 25,
   "metadata": {},
   "outputs": [
    {
     "data": {
      "text/html": [
       "<div>\n",
       "<style scoped>\n",
       "    .dataframe tbody tr th:only-of-type {\n",
       "        vertical-align: middle;\n",
       "    }\n",
       "\n",
       "    .dataframe tbody tr th {\n",
       "        vertical-align: top;\n",
       "    }\n",
       "\n",
       "    .dataframe thead th {\n",
       "        text-align: right;\n",
       "    }\n",
       "</style>\n",
       "<table border=\"1\" class=\"dataframe\">\n",
       "  <thead>\n",
       "    <tr style=\"text-align: right;\">\n",
       "      <th></th>\n",
       "      <th>Item Name</th>\n",
       "      <th>Purchase Count</th>\n",
       "      <th>Item Price</th>\n",
       "      <th>Total Purchase Value</th>\n",
       "    </tr>\n",
       "    <tr>\n",
       "      <th>Item ID</th>\n",
       "      <th></th>\n",
       "      <th></th>\n",
       "      <th></th>\n",
       "      <th></th>\n",
       "    </tr>\n",
       "  </thead>\n",
       "  <tbody>\n",
       "    <tr>\n",
       "      <th>178</th>\n",
       "      <td>Despair, Favor of Due Diligence</td>\n",
       "      <td>12</td>\n",
       "      <td>4.60</td>\n",
       "      <td>50.76</td>\n",
       "    </tr>\n",
       "    <tr>\n",
       "      <th>145</th>\n",
       "      <td>Hopeless Ebon Dualblade</td>\n",
       "      <td>9</td>\n",
       "      <td>1.33</td>\n",
       "      <td>41.22</td>\n",
       "    </tr>\n",
       "    <tr>\n",
       "      <th>108</th>\n",
       "      <td>Malificent Bag</td>\n",
       "      <td>9</td>\n",
       "      <td>1.75</td>\n",
       "      <td>31.77</td>\n",
       "    </tr>\n",
       "    <tr>\n",
       "      <th>82</th>\n",
       "      <td>Azurewrath</td>\n",
       "      <td>9</td>\n",
       "      <td>4.40</td>\n",
       "      <td>44.10</td>\n",
       "    </tr>\n",
       "    <tr>\n",
       "      <th>19</th>\n",
       "      <td>Blazefury, Protector of Delusions</td>\n",
       "      <td>8</td>\n",
       "      <td>4.64</td>\n",
       "      <td>8.16</td>\n",
       "    </tr>\n",
       "    <tr>\n",
       "      <th>103</th>\n",
       "      <td>Thorn, Satchel of Dark Souls</td>\n",
       "      <td>8</td>\n",
       "      <td>1.33</td>\n",
       "      <td>34.80</td>\n",
       "    </tr>\n",
       "    <tr>\n",
       "      <th>75</th>\n",
       "      <td>Venom Claymore</td>\n",
       "      <td>8</td>\n",
       "      <td>1.29</td>\n",
       "      <td>19.36</td>\n",
       "    </tr>\n",
       "    <tr>\n",
       "      <th>72</th>\n",
       "      <td>Oathbreaker, Last Hope of the Breaking Storm</td>\n",
       "      <td>8</td>\n",
       "      <td>4.23</td>\n",
       "      <td>30.16</td>\n",
       "    </tr>\n",
       "    <tr>\n",
       "      <th>60</th>\n",
       "      <td>Bonecarvin Battle Axe</td>\n",
       "      <td>8</td>\n",
       "      <td>2.38</td>\n",
       "      <td>28.32</td>\n",
       "    </tr>\n",
       "    <tr>\n",
       "      <th>59</th>\n",
       "      <td>Hailstorm Shadowsteel Scythe</td>\n",
       "      <td>8</td>\n",
       "      <td>3.03</td>\n",
       "      <td>33.84</td>\n",
       "    </tr>\n",
       "  </tbody>\n",
       "</table>\n",
       "</div>"
      ],
      "text/plain": [
       "                                            Item Name  Purchase Count  \\\n",
       "Item ID                                                                 \n",
       "178                   Despair, Favor of Due Diligence              12   \n",
       "145                           Hopeless Ebon Dualblade               9   \n",
       "108                                    Malificent Bag               9   \n",
       "82                                         Azurewrath               9   \n",
       "19                  Blazefury, Protector of Delusions               8   \n",
       "103                      Thorn, Satchel of Dark Souls               8   \n",
       "75                                     Venom Claymore               8   \n",
       "72       Oathbreaker, Last Hope of the Breaking Storm               8   \n",
       "60                              Bonecarvin Battle Axe               8   \n",
       "59                       Hailstorm Shadowsteel Scythe               8   \n",
       "\n",
       "         Item Price  Total Purchase Value  \n",
       "Item ID                                    \n",
       "178            4.60                 50.76  \n",
       "145            1.33                 41.22  \n",
       "108            1.75                 31.77  \n",
       "82             4.40                 44.10  \n",
       "19             4.64                  8.16  \n",
       "103            1.33                 34.80  \n",
       "75             1.29                 19.36  \n",
       "72             4.23                 30.16  \n",
       "60             2.38                 28.32  \n",
       "59             3.03                 33.84  "
      ]
     },
     "execution_count": 25,
     "metadata": {},
     "output_type": "execute_result"
    }
   ],
   "source": [
    "#Reset df\n",
    "df = pd.read_csv(file_to_load)\n",
    "\n",
    "# Isolate total purchase count for each item\n",
    "count_per_item = df.groupby('Item ID')['Price'].count()\n",
    "count_per_item_df = pd.DataFrame(count_per_item)\n",
    "\n",
    "# Isolate total purchase price of each item\n",
    "unique_item_df = df.groupby('Item ID')['Price'].sum()\n",
    "\n",
    "# Add name\n",
    "item_name_df = df.iloc[:, 5]\n",
    "count_per_item_df['Item Name'] = item_name_df\n",
    "\n",
    "# Add price\n",
    "item_price_df = df.iloc[:, 6]\n",
    "count_per_item_df['Item Price'] = item_price_df\n",
    "\n",
    "# Add value\n",
    "count_per_item_df['Total Purchase Value'] = unique_item_df\n",
    "count_per_item_df\n",
    "\n",
    "# Clean up names\n",
    "updated_count_per_item_df = count_per_item_df.rename(columns={\n",
    "    'Price': 'Purchase Count',\n",
    "})\n",
    "\n",
    "# Rearrange \n",
    "organized_items_df = updated_count_per_item_df[['Item Name', 'Purchase Count', 'Item Price', 'Total Purchase Value']]\n",
    "\n",
    "# Sort \n",
    "sorted_items_df = organized_items_df.sort_values(by=['Purchase Count'], ascending=False)\n",
    "\n",
    "# Show top items only\n",
    "sorted_items_df.head(10)"
   ]
  },
  {
   "cell_type": "markdown",
   "metadata": {},
   "source": [
    "## Most Profitable Items"
   ]
  },
  {
   "cell_type": "markdown",
   "metadata": {},
   "source": [
    "* Sort the above table by total purchase value in descending order\n",
    "\n",
    "\n",
    "* Optional: give the displayed data cleaner formatting\n",
    "\n",
    "\n",
    "* Display a preview of the data frame\n",
    "\n"
   ]
  },
  {
   "cell_type": "code",
   "execution_count": 26,
   "metadata": {
    "scrolled": true
   },
   "outputs": [
    {
     "data": {
      "text/html": [
       "<div>\n",
       "<style scoped>\n",
       "    .dataframe tbody tr th:only-of-type {\n",
       "        vertical-align: middle;\n",
       "    }\n",
       "\n",
       "    .dataframe tbody tr th {\n",
       "        vertical-align: top;\n",
       "    }\n",
       "\n",
       "    .dataframe thead th {\n",
       "        text-align: right;\n",
       "    }\n",
       "</style>\n",
       "<table border=\"1\" class=\"dataframe\">\n",
       "  <thead>\n",
       "    <tr style=\"text-align: right;\">\n",
       "      <th></th>\n",
       "      <th>Item Name</th>\n",
       "      <th>Purchase Count</th>\n",
       "      <th>Item Price</th>\n",
       "      <th>Total Purchase Value</th>\n",
       "    </tr>\n",
       "    <tr>\n",
       "      <th>Item ID</th>\n",
       "      <th></th>\n",
       "      <th></th>\n",
       "      <th></th>\n",
       "      <th></th>\n",
       "    </tr>\n",
       "  </thead>\n",
       "  <tbody>\n",
       "    <tr>\n",
       "      <th>178</th>\n",
       "      <td>Despair, Favor of Due Diligence</td>\n",
       "      <td>12</td>\n",
       "      <td>4.60</td>\n",
       "      <td>50.76</td>\n",
       "    </tr>\n",
       "    <tr>\n",
       "      <th>82</th>\n",
       "      <td>Azurewrath</td>\n",
       "      <td>9</td>\n",
       "      <td>4.40</td>\n",
       "      <td>44.10</td>\n",
       "    </tr>\n",
       "    <tr>\n",
       "      <th>145</th>\n",
       "      <td>Hopeless Ebon Dualblade</td>\n",
       "      <td>9</td>\n",
       "      <td>1.33</td>\n",
       "      <td>41.22</td>\n",
       "    </tr>\n",
       "    <tr>\n",
       "      <th>92</th>\n",
       "      <td>Betrayal, Whisper of Grieving Widows</td>\n",
       "      <td>8</td>\n",
       "      <td>3.94</td>\n",
       "      <td>39.04</td>\n",
       "    </tr>\n",
       "    <tr>\n",
       "      <th>103</th>\n",
       "      <td>Thorn, Satchel of Dark Souls</td>\n",
       "      <td>8</td>\n",
       "      <td>1.33</td>\n",
       "      <td>34.80</td>\n",
       "    </tr>\n",
       "    <tr>\n",
       "      <th>59</th>\n",
       "      <td>Hailstorm Shadowsteel Scythe</td>\n",
       "      <td>8</td>\n",
       "      <td>3.03</td>\n",
       "      <td>33.84</td>\n",
       "    </tr>\n",
       "    <tr>\n",
       "      <th>108</th>\n",
       "      <td>Malificent Bag</td>\n",
       "      <td>9</td>\n",
       "      <td>1.75</td>\n",
       "      <td>31.77</td>\n",
       "    </tr>\n",
       "    <tr>\n",
       "      <th>78</th>\n",
       "      <td>Dawn</td>\n",
       "      <td>7</td>\n",
       "      <td>4.60</td>\n",
       "      <td>30.80</td>\n",
       "    </tr>\n",
       "    <tr>\n",
       "      <th>72</th>\n",
       "      <td>Oathbreaker, Last Hope of the Breaking Storm</td>\n",
       "      <td>8</td>\n",
       "      <td>4.23</td>\n",
       "      <td>30.16</td>\n",
       "    </tr>\n",
       "    <tr>\n",
       "      <th>60</th>\n",
       "      <td>Bonecarvin Battle Axe</td>\n",
       "      <td>8</td>\n",
       "      <td>2.38</td>\n",
       "      <td>28.32</td>\n",
       "    </tr>\n",
       "  </tbody>\n",
       "</table>\n",
       "</div>"
      ],
      "text/plain": [
       "                                            Item Name  Purchase Count  \\\n",
       "Item ID                                                                 \n",
       "178                   Despair, Favor of Due Diligence              12   \n",
       "82                                         Azurewrath               9   \n",
       "145                           Hopeless Ebon Dualblade               9   \n",
       "92               Betrayal, Whisper of Grieving Widows               8   \n",
       "103                      Thorn, Satchel of Dark Souls               8   \n",
       "59                       Hailstorm Shadowsteel Scythe               8   \n",
       "108                                    Malificent Bag               9   \n",
       "78                                               Dawn               7   \n",
       "72       Oathbreaker, Last Hope of the Breaking Storm               8   \n",
       "60                              Bonecarvin Battle Axe               8   \n",
       "\n",
       "         Item Price  Total Purchase Value  \n",
       "Item ID                                    \n",
       "178            4.60                 50.76  \n",
       "82             4.40                 44.10  \n",
       "145            1.33                 41.22  \n",
       "92             3.94                 39.04  \n",
       "103            1.33                 34.80  \n",
       "59             3.03                 33.84  \n",
       "108            1.75                 31.77  \n",
       "78             4.60                 30.80  \n",
       "72             4.23                 30.16  \n",
       "60             2.38                 28.32  "
      ]
     },
     "execution_count": 26,
     "metadata": {},
     "output_type": "execute_result"
    }
   ],
   "source": [
    "#Reset df\n",
    "df = pd.read_csv(file_to_load)\n",
    "\n",
    "# Isolate total purchase count for each item\n",
    "count_per_item2 = df.groupby('Item ID')['Price'].count()\n",
    "count_per_item2_df = pd.DataFrame(count_per_item2)\n",
    "\n",
    "# Isolate total purchase price of each item\n",
    "unique_item2_df = df.groupby('Item ID')['Price'].sum()\n",
    "\n",
    "# Add name\n",
    "item_name2_df = df.iloc[:, 5]\n",
    "count_per_item2_df['Item Name'] = item_name2_df\n",
    "\n",
    "# Add price\n",
    "item_price2_df = df.iloc[:, 6]\n",
    "count_per_item2_df['Item Price'] = item_price2_df\n",
    "\n",
    "# Add total purchase value to table\n",
    "count_per_item2_df['Total Purchase Value'] = unique_item2_df\n",
    "count_per_item2_df\n",
    "\n",
    "# CLean up names\n",
    "updated_count_per_item2_df = count_per_item2_df.rename(columns={\n",
    "    'Price': 'Purchase Count',\n",
    "})\n",
    "\n",
    "# Rearrange\n",
    "organized_items2_df = updated_count_per_item2_df[['Item Name', 'Purchase Count', 'Item Price', 'Total Purchase Value']]\n",
    "\n",
    "# Sort\n",
    "sorted_items2_df = organized_items2_df.sort_values(by=['Total Purchase Value'], ascending=False)\n",
    "\n",
    "# Show top items only\n",
    "sorted_items2_df.head(10)"
   ]
  },
  {
   "cell_type": "code",
   "execution_count": 47,
   "metadata": {},
   "outputs": [
    {
     "name": "stdout",
     "output_type": "stream",
     "text": [
      "OUTPUT SUMMARY\n",
      "*******************************\n",
      "*******************************\n",
      "*******************************\n",
      "~~Player Count OUTPUT:~~\n",
      "There are 576 unique players who have made purchases.\n",
      "-------------------------------\n",
      "~~Purchasing Analysis OUTPUT:~~\n",
      "There are 183 unique item purchases.\n",
      "The average purchase price is $3.05.\n",
      "-------------------------------\n",
      "~~Gender Demographics OUTPUT:~~\n",
      "There are 81 female players, 484 male players, and 11 other or non-disclosed players.\n",
      "The player pool is 14.0625% female, 84.02777777777779% male, and 1.9097222222222223% other or non-discolsed.\n",
      "-------------------------------\n",
      "~~Purchasing Analysis (Gender)~~\n",
      "   Gender Total Purchases Average Purchase $ Average Age  \\\n",
      "0  Female             113                3.2        22.9   \n",
      "1    Male             652               3.02        21.3   \n",
      "2   Other              15               3.35        24.2   \n",
      "\n",
      "  Average Purchases / Person  \n",
      "0         1.3950617283950617  \n",
      "1         1.3471074380165289  \n",
      "2         1.3636363636363635  \n",
      "-------------------------------\n",
      "~~Age Demographics~~\n",
      "  Age Range  User Count          %\n",
      "0       <10          32   5.555556\n",
      "1     10-14          54   9.375000\n",
      "2     15-19         200  34.722222\n",
      "3     20-24         325  61.111111\n",
      "4     25-29          77  13.368056\n",
      "5     30-34          52   9.027778\n",
      "6     35-39          33   5.729167\n",
      "7       40+           7   1.215278\n",
      "-------------------------------\n",
      "~~Purchasing Analysis (Age)~~\n",
      "  Age Range  Purchase Count          % Average Purchase $\n",
      "0       <10              32   4.102564               3.40\n",
      "1     10-14              54   6.923077               2.90\n",
      "2     15-19             200  25.641026                3.1\n",
      "3     20-24             325  45.128205               3.02\n",
      "4     25-29              77   9.871795               2.88\n",
      "5     30-34              52   6.666667               2.99\n",
      "6     35-39              33   4.230769               3.40\n",
      "7       40+               7   0.897436               3.08\n",
      "-------------------------------\n",
      "~~Top Spenders~~\n",
      "              Purchase Count  Average Purchase Price  Total Purchase Value\n",
      "SN                                                                        \n",
      "Lisosia93                  5                3.792000                 18.96\n",
      "Idastidru52                4                3.862500                 15.45\n",
      "Chamjask73                 3                4.610000                 13.83\n",
      "Iral74                     4                3.405000                 13.62\n",
      "Iskadarya95                3                4.366667                 13.10\n",
      "Ilarin91                   3                4.233333                 12.70\n",
      "Ialallo29                  3                3.946667                 11.84\n",
      "Tyidaim51                  3                3.943333                 11.83\n",
      "Lassilsala30               3                3.836667                 11.51\n",
      "Chadolyla44                3                3.820000                 11.46\n",
      "-------------------------------\n",
      "~~Most Popular Items~~\n",
      "                                            Item Name  Purchase Count  \\\n",
      "Item ID                                                                 \n",
      "178                   Despair, Favor of Due Diligence              12   \n",
      "145                           Hopeless Ebon Dualblade               9   \n",
      "108                                    Malificent Bag               9   \n",
      "82                                         Azurewrath               9   \n",
      "19                  Blazefury, Protector of Delusions               8   \n",
      "103                      Thorn, Satchel of Dark Souls               8   \n",
      "75                                     Venom Claymore               8   \n",
      "72       Oathbreaker, Last Hope of the Breaking Storm               8   \n",
      "60                              Bonecarvin Battle Axe               8   \n",
      "59                       Hailstorm Shadowsteel Scythe               8   \n",
      "\n",
      "         Item Price  Total Purchase Value  \n",
      "Item ID                                    \n",
      "178            4.60                 50.76  \n",
      "145            1.33                 41.22  \n",
      "108            1.75                 31.77  \n",
      "82             4.40                 44.10  \n",
      "19             4.64                  8.16  \n",
      "103            1.33                 34.80  \n",
      "75             1.29                 19.36  \n",
      "72             4.23                 30.16  \n",
      "60             2.38                 28.32  \n",
      "59             3.03                 33.84  \n",
      "-------------------------------\n",
      "~~Most Profitable Items~~\n",
      "                                            Item Name  Purchase Count  \\\n",
      "Item ID                                                                 \n",
      "178                   Despair, Favor of Due Diligence              12   \n",
      "82                                         Azurewrath               9   \n",
      "145                           Hopeless Ebon Dualblade               9   \n",
      "92               Betrayal, Whisper of Grieving Widows               8   \n",
      "103                      Thorn, Satchel of Dark Souls               8   \n",
      "59                       Hailstorm Shadowsteel Scythe               8   \n",
      "108                                    Malificent Bag               9   \n",
      "78                                               Dawn               7   \n",
      "72       Oathbreaker, Last Hope of the Breaking Storm               8   \n",
      "60                              Bonecarvin Battle Axe               8   \n",
      "\n",
      "         Item Price  Total Purchase Value  \n",
      "Item ID                                    \n",
      "178            4.60                 50.76  \n",
      "82             4.40                 44.10  \n",
      "145            1.33                 41.22  \n",
      "92             3.94                 39.04  \n",
      "103            1.33                 34.80  \n",
      "59             3.03                 33.84  \n",
      "108            1.75                 31.77  \n",
      "78             4.60                 30.80  \n",
      "72             4.23                 30.16  \n",
      "60             2.38                 28.32  \n"
     ]
    }
   ],
   "source": [
    "print (\"OUTPUT SUMMARY\")\n",
    "print ('*******************************')\n",
    "print ('*******************************')\n",
    "print ('*******************************')\n",
    "print ('~~Player Count OUTPUT:~~')\n",
    "print ('There are ' + str(unique_players) + ' unique players who have made purchases.')\n",
    "print ('-------------------------------')\n",
    "print ('~~Purchasing Analysis OUTPUT:~~')\n",
    "print (\"There are \" + str(unique_items) + \" unique item purchases.\")\n",
    "print ('The average purchase price is $' + str(3.05) + '.')\n",
    "print ('-------------------------------')\n",
    "print ('~~Gender Demographics OUTPUT:~~')\n",
    "print ('There are ' + str(unique_female) + ' female players, '\n",
    "       + str(unique_male) + ' male players, and ' + str(unique_other)\n",
    "       + ' other or non-disclosed players.')\n",
    "print ('The player pool is ' + str(per_female) + '% female, ' \n",
    "       + str(per_male) + '% male, and ' + str(per_other) + '% other or non-discolsed.')\n",
    "print ('-------------------------------')\n",
    "print ('~~Purchasing Analysis (Gender)~~')\n",
    "print (summary_df)\n",
    "print ('-------------------------------')\n",
    "print ('~~Age Demographics~~')\n",
    "print (summary_df2)\n",
    "print ('-------------------------------')\n",
    "print ('~~Purchasing Analysis (Age)~~')\n",
    "print (summary_df3)\n",
    "print ('-------------------------------')\n",
    "print ('~~Top Spenders~~')\n",
    "print (sorted_SN_df.head(10))\n",
    "print ('-------------------------------')\n",
    "print ('~~Most Popular Items~~')\n",
    "print (sorted_items_df.head(10))\n",
    "print ('-------------------------------')\n",
    "print ('~~Most Profitable Items~~')\n",
    "print (sorted_items2_df.head(10))"
   ]
  },
  {
   "cell_type": "code",
   "execution_count": null,
   "metadata": {},
   "outputs": [],
   "source": []
  }
 ],
 "metadata": {
  "anaconda-cloud": {},
  "kernel_info": {
   "name": "python3"
  },
  "kernelspec": {
   "display_name": "Python 3",
   "language": "python",
   "name": "python3"
  },
  "language_info": {
   "codemirror_mode": {
    "name": "ipython",
    "version": 3
   },
   "file_extension": ".py",
   "mimetype": "text/x-python",
   "name": "python",
   "nbconvert_exporter": "python",
   "pygments_lexer": "ipython3",
   "version": "3.7.3"
  },
  "nteract": {
   "version": "0.2.0"
  }
 },
 "nbformat": 4,
 "nbformat_minor": 2
}
